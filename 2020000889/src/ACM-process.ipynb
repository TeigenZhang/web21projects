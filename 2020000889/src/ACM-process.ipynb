{
 "cells": [
  {
   "cell_type": "code",
   "execution_count": 8,
   "metadata": {
    "collapsed": true
   },
   "outputs": [],
   "source": [
    "import json\n",
    "import re\n",
    "import csv\n",
    "import time\n",
    "import random\n",
    "import glob\n",
    "import tqdm\n",
    "import copy\n",
    "import itertools"
   ]
  },
  {
   "cell_type": "code",
   "execution_count": 2,
   "metadata": {
    "collapsed": true
   },
   "outputs": [],
   "source": [
    "confs = ['SIGIR','SIGKDD','CIKM','WWW','WSDM']\n",
    "c2id = dict(zip(confs,list(range(5))))\n",
    "p_node =set()\n",
    "a_node =set()\n",
    "c_node ={c2id['SIGIR'],c2id['SIGKDD'],c2id['CIKM'],c2id['WWW'],c2id['WSDM']}\n",
    "p2p =set()\n",
    "a2a =set()\n",
    "a2p =set()\n",
    "p2c =set()"
   ]
  },
  {
   "cell_type": "code",
   "execution_count": 3,
   "metadata": {},
   "outputs": [
    {
     "name": "stdout",
     "output_type": "stream",
     "text": [
      "SIGIR2010\n"
     ]
    },
    {
     "name": "stderr",
     "output_type": "stream",
     "text": [
      "100%|█████████████████████████████████████████████████████████████████████████████| 216/216 [00:00<00:00, 72217.59it/s]\n"
     ]
    },
    {
     "name": "stdout",
     "output_type": "stream",
     "text": [
      "SIGIR2011\n"
     ]
    },
    {
     "name": "stderr",
     "output_type": "stream",
     "text": [
      "100%|█████████████████████████████████████████████████████████████████████████████| 238/238 [00:00<00:00, 39799.23it/s]\n"
     ]
    },
    {
     "name": "stdout",
     "output_type": "stream",
     "text": [
      "SIGIR2012\n"
     ]
    },
    {
     "name": "stderr",
     "output_type": "stream",
     "text": [
      "100%|█████████████████████████████████████████████████████████████████████████████| 223/223 [00:00<00:00, 24912.23it/s]\n"
     ]
    },
    {
     "name": "stdout",
     "output_type": "stream",
     "text": [
      "SIGIR2013\n"
     ]
    },
    {
     "name": "stderr",
     "output_type": "stream",
     "text": [
      "100%|██████████████████████████████████████████████████████████████████████████████| 210/210 [00:00<00:00, 6016.26it/s]\n"
     ]
    },
    {
     "name": "stdout",
     "output_type": "stream",
     "text": [
      "SIGIR2014\n"
     ]
    },
    {
     "name": "stderr",
     "output_type": "stream",
     "text": [
      "100%|█████████████████████████████████████████████████████████████████████████████| 229/229 [00:00<00:00, 45921.57it/s]\n"
     ]
    },
    {
     "name": "stdout",
     "output_type": "stream",
     "text": [
      "SIGIR2015\n"
     ]
    },
    {
     "name": "stderr",
     "output_type": "stream",
     "text": [
      "100%|█████████████████████████████████████████████████████████████████████████████| 200/200 [00:00<00:00, 25080.30it/s]\n"
     ]
    },
    {
     "name": "stdout",
     "output_type": "stream",
     "text": [
      "SIGIR2016\n"
     ]
    },
    {
     "name": "stderr",
     "output_type": "stream",
     "text": [
      "100%|█████████████████████████████████████████████████████████████████████████████| 234/234 [00:00<00:00, 33512.04it/s]\n"
     ]
    },
    {
     "name": "stdout",
     "output_type": "stream",
     "text": [
      "SIGIR2017\n"
     ]
    },
    {
     "name": "stderr",
     "output_type": "stream",
     "text": [
      "100%|█████████████████████████████████████████████████████████████████████████████| 254/254 [00:00<00:00, 36401.18it/s]\n"
     ]
    },
    {
     "name": "stdout",
     "output_type": "stream",
     "text": [
      "SIGIR2018\n"
     ]
    },
    {
     "name": "stderr",
     "output_type": "stream",
     "text": [
      "100%|█████████████████████████████████████████████████████████████████████████████| 249/249 [00:00<00:00, 20804.42it/s]\n"
     ]
    },
    {
     "name": "stdout",
     "output_type": "stream",
     "text": [
      "SIGIR2019\n"
     ]
    },
    {
     "name": "stderr",
     "output_type": "stream",
     "text": [
      "100%|█████████████████████████████████████████████████████████████████████████████| 261/261 [00:00<00:00, 16363.43it/s]\n"
     ]
    },
    {
     "name": "stdout",
     "output_type": "stream",
     "text": [
      "SIGKDD2010\n"
     ]
    },
    {
     "name": "stderr",
     "output_type": "stream",
     "text": [
      "100%|█████████████████████████████████████████████████████████████████████████████| 128/128 [00:00<00:00, 42953.11it/s]\n"
     ]
    },
    {
     "name": "stdout",
     "output_type": "stream",
     "text": [
      "SIGKDD2011\n"
     ]
    },
    {
     "name": "stderr",
     "output_type": "stream",
     "text": [
      "100%|█████████████████████████████████████████████████████████████████████████████| 178/178 [00:00<00:00, 44743.26it/s]\n"
     ]
    },
    {
     "name": "stdout",
     "output_type": "stream",
     "text": [
      "SIGKDD2012\n"
     ]
    },
    {
     "name": "stderr",
     "output_type": "stream",
     "text": [
      "100%|█████████████████████████████████████████████████████████████████████████████| 209/209 [00:00<00:00, 41983.22it/s]\n"
     ]
    },
    {
     "name": "stdout",
     "output_type": "stream",
     "text": [
      "SIGKDD2013\n"
     ]
    },
    {
     "name": "stderr",
     "output_type": "stream",
     "text": [
      "100%|█████████████████████████████████████████████████████████████████████████████| 197/197 [00:00<00:00, 17958.27it/s]\n"
     ]
    },
    {
     "name": "stdout",
     "output_type": "stream",
     "text": [
      "SIGKDD2014\n"
     ]
    },
    {
     "name": "stderr",
     "output_type": "stream",
     "text": [
      "100%|█████████████████████████████████████████████████████████████████████████████| 218/218 [00:00<00:00, 43678.14it/s]\n"
     ]
    },
    {
     "name": "stdout",
     "output_type": "stream",
     "text": [
      "SIGKDD2015\n"
     ]
    },
    {
     "name": "stderr",
     "output_type": "stream",
     "text": [
      "100%|█████████████████████████████████████████████████████████████████████████████| 253/253 [00:00<00:00, 28188.58it/s]\n"
     ]
    },
    {
     "name": "stdout",
     "output_type": "stream",
     "text": [
      "SIGKDD2016\n"
     ]
    },
    {
     "name": "stderr",
     "output_type": "stream",
     "text": [
      "100%|█████████████████████████████████████████████████████████████████████████████| 236/236 [00:00<00:00, 26288.89it/s]\n"
     ]
    },
    {
     "name": "stdout",
     "output_type": "stream",
     "text": [
      "SIGKDD2017\n"
     ]
    },
    {
     "name": "stderr",
     "output_type": "stream",
     "text": [
      "100%|█████████████████████████████████████████████████████████████████████████████| 232/232 [00:00<00:00, 29080.98it/s]\n"
     ]
    },
    {
     "name": "stdout",
     "output_type": "stream",
     "text": [
      "SIGKDD2018\n"
     ]
    },
    {
     "name": "stderr",
     "output_type": "stream",
     "text": [
      "100%|██████████████████████████████████████████████████████████████████████████████| 310/310 [00:00<00:00, 8401.07it/s]\n"
     ]
    },
    {
     "name": "stdout",
     "output_type": "stream",
     "text": [
      "SIGKDD2019\n"
     ]
    },
    {
     "name": "stderr",
     "output_type": "stream",
     "text": [
      "100%|█████████████████████████████████████████████████████████████████████████████| 374/374 [00:00<00:00, 28749.17it/s]\n"
     ]
    },
    {
     "name": "stdout",
     "output_type": "stream",
     "text": [
      "CIKM2010\n"
     ]
    },
    {
     "name": "stderr",
     "output_type": "stream",
     "text": [
      "100%|█████████████████████████████████████████████████████████████████████████████| 320/320 [00:00<00:00, 79730.15it/s]\n"
     ]
    },
    {
     "name": "stdout",
     "output_type": "stream",
     "text": [
      "CIKM2011\n"
     ]
    },
    {
     "name": "stderr",
     "output_type": "stream",
     "text": [
      "100%|█████████████████████████████████████████████████████████████████████████████| 422/422 [00:00<00:00, 46927.10it/s]\n"
     ]
    },
    {
     "name": "stdout",
     "output_type": "stream",
     "text": [
      "CIKM2012\n"
     ]
    },
    {
     "name": "stderr",
     "output_type": "stream",
     "text": [
      "100%|█████████████████████████████████████████████████████████████████████████████| 445/445 [00:00<00:00, 49642.67it/s]\n"
     ]
    },
    {
     "name": "stdout",
     "output_type": "stream",
     "text": [
      "CIKM2013\n"
     ]
    },
    {
     "name": "stderr",
     "output_type": "stream",
     "text": [
      "100%|█████████████████████████████████████████████████████████████████████████████| 371/371 [00:00<00:00, 73737.70it/s]\n"
     ]
    },
    {
     "name": "stdout",
     "output_type": "stream",
     "text": [
      "CIKM2014\n"
     ]
    },
    {
     "name": "stderr",
     "output_type": "stream",
     "text": [
      "100%|█████████████████████████████████████████████████████████████████████████████| 266/266 [00:00<00:00, 29597.69it/s]\n"
     ]
    },
    {
     "name": "stdout",
     "output_type": "stream",
     "text": [
      "CIKM2015\n"
     ]
    },
    {
     "name": "stderr",
     "output_type": "stream",
     "text": [
      "100%|█████████████████████████████████████████████████████████████████████████████| 244/244 [00:00<00:00, 30575.11it/s]\n"
     ]
    },
    {
     "name": "stdout",
     "output_type": "stream",
     "text": [
      "CIKM2016\n"
     ]
    },
    {
     "name": "stderr",
     "output_type": "stream",
     "text": [
      "100%|█████████████████████████████████████████████████████████████████████████████| 327/327 [00:00<00:00, 40842.66it/s]\n"
     ]
    },
    {
     "name": "stdout",
     "output_type": "stream",
     "text": [
      "CIKM2017\n"
     ]
    },
    {
     "name": "stderr",
     "output_type": "stream",
     "text": [
      "100%|█████████████████████████████████████████████████████████████████████████████| 350/350 [00:00<00:00, 26976.98it/s]\n"
     ]
    },
    {
     "name": "stdout",
     "output_type": "stream",
     "text": [
      "CIKM2018\n"
     ]
    },
    {
     "name": "stderr",
     "output_type": "stream",
     "text": [
      "100%|██████████████████████████████████████████████████████████████████████████████| 313/313 [00:00<00:00, 8052.96it/s]\n"
     ]
    },
    {
     "name": "stdout",
     "output_type": "stream",
     "text": [
      "CIKM2019\n"
     ]
    },
    {
     "name": "stderr",
     "output_type": "stream",
     "text": [
      "100%|█████████████████████████████████████████████████████████████████████████████| 369/369 [00:00<00:00, 23124.48it/s]\n"
     ]
    },
    {
     "name": "stdout",
     "output_type": "stream",
     "text": [
      "WWW2010\n"
     ]
    },
    {
     "name": "stderr",
     "output_type": "stream",
     "text": [
      "100%|█████████████████████████████████████████████████████████████████████████████| 240/240 [00:00<00:00, 79519.15it/s]\n"
     ]
    },
    {
     "name": "stdout",
     "output_type": "stream",
     "text": [
      "WWW2011\n"
     ]
    },
    {
     "name": "stderr",
     "output_type": "stream",
     "text": [
      "100%|███████████████████████████████████████████████████████████████████████████████| 84/84 [00:00<00:00, 42068.24it/s]\n"
     ]
    },
    {
     "name": "stdout",
     "output_type": "stream",
     "text": [
      "WWW2012\n"
     ]
    },
    {
     "name": "stderr",
     "output_type": "stream",
     "text": [
      "100%|█████████████████████████████████████████████████████████████████████████████| 107/107 [00:00<00:00, 35751.66it/s]\n"
     ]
    },
    {
     "name": "stdout",
     "output_type": "stream",
     "text": [
      "WWW2013\n"
     ]
    },
    {
     "name": "stderr",
     "output_type": "stream",
     "text": [
      "100%|█████████████████████████████████████████████████████████████████████████████| 137/137 [00:00<00:00, 45768.19it/s]\n"
     ]
    },
    {
     "name": "stdout",
     "output_type": "stream",
     "text": [
      "WWW2014\n"
     ]
    },
    {
     "name": "stderr",
     "output_type": "stream",
     "text": [
      "100%|███████████████████████████████████████████████████████████████████████████████| 87/87 [00:00<00:00, 43601.92it/s]\n"
     ]
    },
    {
     "name": "stdout",
     "output_type": "stream",
     "text": [
      "WWW2015\n"
     ]
    },
    {
     "name": "stderr",
     "output_type": "stream",
     "text": [
      "100%|█████████████████████████████████████████████████████████████████████████████| 131/131 [00:00<00:00, 32858.14it/s]\n"
     ]
    },
    {
     "name": "stdout",
     "output_type": "stream",
     "text": [
      "WWW2016\n"
     ]
    },
    {
     "name": "stderr",
     "output_type": "stream",
     "text": [
      "100%|█████████████████████████████████████████████████████████████████████████████| 163/163 [00:00<00:00, 40855.24it/s]\n"
     ]
    },
    {
     "name": "stdout",
     "output_type": "stream",
     "text": [
      "WWW2017\n"
     ]
    },
    {
     "name": "stderr",
     "output_type": "stream",
     "text": [
      "100%|█████████████████████████████████████████████████████████████████████████████| 167/167 [00:00<00:00, 41860.32it/s]\n"
     ]
    },
    {
     "name": "stdout",
     "output_type": "stream",
     "text": [
      "WWW2018\n"
     ]
    },
    {
     "name": "stderr",
     "output_type": "stream",
     "text": [
      "100%|█████████████████████████████████████████████████████████████████████████████| 201/201 [00:00<00:00, 33599.90it/s]\n"
     ]
    },
    {
     "name": "stdout",
     "output_type": "stream",
     "text": [
      "WWW2019\n"
     ]
    },
    {
     "name": "stderr",
     "output_type": "stream",
     "text": [
      "100%|█████████████████████████████████████████████████████████████████████████████| 383/383 [00:00<00:00, 42672.82it/s]\n"
     ]
    },
    {
     "name": "stdout",
     "output_type": "stream",
     "text": [
      "WSDM2010\n"
     ]
    },
    {
     "name": "stderr",
     "output_type": "stream",
     "text": [
      "100%|███████████████████████████████████████████████████████████████████████████████| 45/45 [00:00<00:00, 44452.11it/s]\n"
     ]
    },
    {
     "name": "stdout",
     "output_type": "stream",
     "text": [
      "WSDM2011\n"
     ]
    },
    {
     "name": "stderr",
     "output_type": "stream",
     "text": [
      "100%|███████████████████████████████████████████████████████████████████████████████| 91/91 [00:00<00:00, 30458.99it/s]\n"
     ]
    },
    {
     "name": "stdout",
     "output_type": "stream",
     "text": [
      "WSDM2012\n"
     ]
    },
    {
     "name": "stderr",
     "output_type": "stream",
     "text": [
      "100%|███████████████████████████████████████████████████████████████████████████████| 85/85 [00:00<00:00, 43313.79it/s]\n"
     ]
    },
    {
     "name": "stdout",
     "output_type": "stream",
     "text": [
      "WSDM2013\n"
     ]
    },
    {
     "name": "stderr",
     "output_type": "stream",
     "text": [
      "100%|███████████████████████████████████████████████████████████████████████████████| 95/95 [00:00<00:00, 47622.67it/s]\n"
     ]
    },
    {
     "name": "stdout",
     "output_type": "stream",
     "text": [
      "WSDM2014\n"
     ]
    },
    {
     "name": "stderr",
     "output_type": "stream",
     "text": [
      "100%|███████████████████████████████████████████████████████████████████████████████| 80/80 [00:00<00:00, 40112.89it/s]\n"
     ]
    },
    {
     "name": "stdout",
     "output_type": "stream",
     "text": [
      "WSDM2015\n"
     ]
    },
    {
     "name": "stderr",
     "output_type": "stream",
     "text": [
      "100%|███████████████████████████████████████████████████████████████████████████████| 64/64 [00:00<00:00, 64111.64it/s]\n"
     ]
    },
    {
     "name": "stdout",
     "output_type": "stream",
     "text": [
      "WSDM2016\n"
     ]
    },
    {
     "name": "stderr",
     "output_type": "stream",
     "text": [
      "100%|███████████████████████████████████████████████████████████████████████████████| 93/93 [00:00<00:00, 31091.21it/s]\n"
     ]
    },
    {
     "name": "stdout",
     "output_type": "stream",
     "text": [
      "WSDM2017\n"
     ]
    },
    {
     "name": "stderr",
     "output_type": "stream",
     "text": [
      "100%|█████████████████████████████████████████████████████████████████████████████| 104/104 [00:00<00:00, 34768.66it/s]\n"
     ]
    },
    {
     "name": "stdout",
     "output_type": "stream",
     "text": [
      "WSDM2018\n"
     ]
    },
    {
     "name": "stderr",
     "output_type": "stream",
     "text": [
      "100%|█████████████████████████████████████████████████████████████████████████████| 115/115 [00:00<00:00, 38473.71it/s]\n"
     ]
    },
    {
     "name": "stdout",
     "output_type": "stream",
     "text": [
      "WSDM2019\n"
     ]
    },
    {
     "name": "stderr",
     "output_type": "stream",
     "text": [
      "100%|█████████████████████████████████████████████████████████████████████████████| 121/121 [00:00<00:00, 40090.91it/s]\n"
     ]
    }
   ],
   "source": [
    "for conf in confs:\n",
    "    for tag in range(2010,2020):\n",
    "        filename=r'C:\\Users\\haiyuanzhao\\Desktop\\result\\{}.json'.format(conf+'_'+str(tag))\n",
    "        with open(filename) as f:\n",
    "            conf_data=json.load(f)\n",
    "        print(conf+str(tag))\n",
    "        for p in tqdm.tqdm(conf_data):\n",
    "            a_ids =[]\n",
    "            #ref_id =[]\n",
    "            p_node.add(p['paper_doi'])\n",
    "            p2p.add((p['paper_doi'],p['paper_doi']))\n",
    "            p2c.add((p['paper_doi'],c2id[p['paper_conf']]))\n",
    "            for a in p['author_info_list']:\n",
    "                a_ids.append(a['author_doi'])\n",
    "                a_node.add(a['author_doi'])\n",
    "                a2p.add((a['author_doi'],p['paper_doi']))\n",
    "            for permu in itertools.product(a_ids,repeat=2):\n",
    "                a2a.add(permu)\n",
    "            for ref_p in p['paper_ref_list']:\n",
    "                if ref_p['ref_in']:\n",
    "                    p2p.add((p['paper_doi'],ref_p['ref_doi']))\n",
    "                    for a_id in a_ids:\n",
    "                        a2p.add((a_id,ref_p['ref_doi']))\n",
    "            \n",
    "        "
   ]
  },
  {
   "cell_type": "code",
   "execution_count": 59,
   "metadata": {},
   "outputs": [
    {
     "data": {
      "text/plain": [
       "(10669, 18388, 121938, 35683, 136952, 10669)"
      ]
     },
     "execution_count": 59,
     "metadata": {},
     "output_type": "execute_result"
    }
   ],
   "source": [
    "len(p_node),len(a_node),len(a2p),len(p2p),len(a2a),len(p2c)"
   ]
  },
  {
   "cell_type": "code",
   "execution_count": 60,
   "metadata": {
    "collapsed": true
   },
   "outputs": [],
   "source": [
    "processed_data={\n",
    "    'p_node':p_node,\n",
    "    'a_node':a_node,\n",
    "    'c_node':c_node,\n",
    "    'p2p':p2p,\n",
    "    'a2a':a2a,\n",
    "    'a2p':a2p,\n",
    "    'p2c':p2c\n",
    "}"
   ]
  },
  {
   "cell_type": "code",
   "execution_count": 62,
   "metadata": {
    "collapsed": true
   },
   "outputs": [],
   "source": [
    "# p_node\n",
    "file_path = r'C:\\Users\\haiyuanzhao\\Desktop\\result\\processed\\{}.csv'.format('p_node')\n",
    "with open(file_path,'w',newline=\"\") as f:\n",
    "    writer=csv.writer(f)\n",
    "    for i in p_node:\n",
    "        temp=[]\n",
    "        temp.append(i)\n",
    "        writer.writerow(temp)"
   ]
  },
  {
   "cell_type": "code",
   "execution_count": 63,
   "metadata": {
    "collapsed": true
   },
   "outputs": [],
   "source": [
    "# a_node\n",
    "file_path = r'C:\\Users\\haiyuanzhao\\Desktop\\result\\processed\\{}.csv'.format('a_node')\n",
    "with open(file_path,'w',newline=\"\") as f:\n",
    "    writer=csv.writer(f)\n",
    "    for i in a_node:\n",
    "        temp=[]\n",
    "        temp.append(i)\n",
    "        writer.writerow(temp)"
   ]
  },
  {
   "cell_type": "code",
   "execution_count": 64,
   "metadata": {
    "collapsed": true
   },
   "outputs": [],
   "source": [
    "# c_node\n",
    "file_path = r'C:\\Users\\haiyuanzhao\\Desktop\\result\\processed\\{}.csv'.format('c_node')\n",
    "with open(file_path,'w',newline=\"\") as f:\n",
    "    writer=csv.writer(f)\n",
    "    for i in c_node:\n",
    "        temp=[]\n",
    "        temp.append(i)\n",
    "        writer.writerow(temp)"
   ]
  },
  {
   "cell_type": "code",
   "execution_count": 65,
   "metadata": {
    "collapsed": true
   },
   "outputs": [],
   "source": [
    "# p2p\n",
    "file_path = r'C:\\Users\\haiyuanzhao\\Desktop\\result\\processed\\{}.csv'.format('p2p')\n",
    "with open(file_path,'w',newline=\"\") as f:\n",
    "    writer=csv.writer(f)\n",
    "    for i in p2p:\n",
    "        temp=[]\n",
    "        temp.append(i[0])\n",
    "        temp.append(i[1])\n",
    "        writer.writerow(temp)"
   ]
  },
  {
   "cell_type": "code",
   "execution_count": 66,
   "metadata": {
    "collapsed": true
   },
   "outputs": [],
   "source": [
    "# a2a\n",
    "file_path = r'C:\\Users\\haiyuanzhao\\Desktop\\result\\processed\\{}.csv'.format('a2a')\n",
    "with open(file_path,'w',newline=\"\") as f:\n",
    "    writer=csv.writer(f)\n",
    "    for i in a2a:\n",
    "        temp=[]\n",
    "        temp.append(i[0])\n",
    "        temp.append(i[1])\n",
    "        writer.writerow(temp)"
   ]
  },
  {
   "cell_type": "code",
   "execution_count": 67,
   "metadata": {
    "collapsed": true
   },
   "outputs": [],
   "source": [
    "# a2p\n",
    "file_path = r'C:\\Users\\haiyuanzhao\\Desktop\\result\\processed\\{}.csv'.format('a2p')\n",
    "with open(file_path,'w',newline=\"\") as f:\n",
    "    writer=csv.writer(f)\n",
    "    for i in a2p:\n",
    "        temp=[]\n",
    "        temp.append(i[0])\n",
    "        temp.append(i[1])\n",
    "        writer.writerow(temp)"
   ]
  },
  {
   "cell_type": "code",
   "execution_count": 68,
   "metadata": {
    "collapsed": true
   },
   "outputs": [],
   "source": [
    "# p2c\n",
    "file_path = r'C:\\Users\\haiyuanzhao\\Desktop\\result\\processed\\{}.csv'.format('p2c')\n",
    "with open(file_path,'w',newline=\"\") as f:\n",
    "    writer=csv.writer(f)\n",
    "    for i in p2c:\n",
    "        temp=[]\n",
    "        temp.append(i[0])\n",
    "        temp.append(i[1])\n",
    "        writer.writerow(temp)"
   ]
  },
  {
   "cell_type": "code",
   "execution_count": 4,
   "metadata": {},
   "outputs": [
    {
     "data": {
      "text/plain": [
       "(10669, 18388, 121938, 35683, 136952, 10669)"
      ]
     },
     "execution_count": 4,
     "metadata": {},
     "output_type": "execute_result"
    }
   ],
   "source": [
    "len(p_node),len(a_node),len(a2p),len(p2p),len(a2a),len(p2c)"
   ]
  },
  {
   "cell_type": "code",
   "execution_count": 13,
   "metadata": {},
   "outputs": [],
   "source": [
    "lst_a2p=[]\n",
    "for item in a2p:\n",
    "    lst_a2p.append([item[0],item[1]])\n",
    "\n",
    "lst_p2p=[]\n",
    "for item in p2p:\n",
    "    lst_p2p.append([item[0],item[1]])\n",
    "    \n",
    "lst_a2a=[]\n",
    "for item in a2a:\n",
    "    lst_a2a.append([item[0],item[1]])\n",
    "    \n",
    "lst_p2c=[]\n",
    "for item in p2c:\n",
    "    lst_p2c.append([item[0],item[1]])"
   ]
  },
  {
   "cell_type": "markdown",
   "metadata": {},
   "source": [
    "aap = aa + ap \\n\n",
    "app = ap + pp  \\n\n",
    "apcp = ap + pc + cp  \\n"
   ]
  },
  {
   "cell_type": "code",
   "execution_count": 41,
   "metadata": {},
   "outputs": [],
   "source": [
    "def uniq(one_list):\n",
    "    temp_list=[]\n",
    "    for one in one_list:\n",
    "        if one not in temp_list:\n",
    "            temp_list.append(one)\n",
    "    return temp_list  \n",
    "\n",
    "def list_join(R,S):\n",
    "    #R_c = copy.deepcopy(R)\n",
    "    concat = []\n",
    "    for r in tqdm.tqdm(R):\n",
    "        for s in S:\n",
    "            if r[1]==s[0]:\n",
    "                #r.extend(s[1:])\n",
    "                #r = uniq(r)\n",
    "                concat.append([r[0],r[1],s[1]])\n",
    "    return concat\n",
    "\n",
    "def list_join2(R,S):\n",
    "    #R_c = copy.deepcopy(R)\n",
    "    concat = []\n",
    "    for r in tqdm.tqdm(R):\n",
    "        for s in S:\n",
    "            if r[2]==s[1]:\n",
    "                #r.extend(s)\n",
    "                #r = uniq(r)\n",
    "                concat.append([r[0],r[1],r[2],s[0]])\n",
    "    return concat"
   ]
  },
  {
   "cell_type": "code",
   "execution_count": 42,
   "metadata": {},
   "outputs": [
    {
     "name": "stderr",
     "output_type": "stream",
     "text": [
      "100%|██████████████████████████████████████████████████████████████████████████| 136952/136952 [22:54<00:00, 99.60it/s]\n"
     ]
    }
   ],
   "source": [
    "aap = list_join(lst_a2a,lst_a2p)"
   ]
  },
  {
   "cell_type": "code",
   "execution_count": 45,
   "metadata": {},
   "outputs": [
    {
     "name": "stderr",
     "output_type": "stream",
     "text": [
      "100%|█████████████████████████████████████████████████████████████████████████| 121938/121938 [05:21<00:00, 378.78it/s]\n"
     ]
    }
   ],
   "source": [
    "app = list_join(lst_a2p,lst_p2p)"
   ]
  },
  {
   "cell_type": "code",
   "execution_count": 48,
   "metadata": {
    "scrolled": true
   },
   "outputs": [
    {
     "name": "stderr",
     "output_type": "stream",
     "text": [
      "100%|████████████████████████████████████████████████████████████████████████| 121938/121938 [01:38<00:00, 1240.95it/s]\n",
      "100%|██████████████████████████████████████████████████████████████████████████| 121566/121566 [44:17<00:00, 45.74it/s]\n"
     ]
    }
   ],
   "source": [
    "apc = list_join(lst_a2p,lst_p2c)\n",
    "apcp = list_join2(apc,lst_p2c)"
   ]
  },
  {
   "cell_type": "code",
   "execution_count": 52,
   "metadata": {},
   "outputs": [
    {
     "data": {
      "text/plain": [
       "(2480700, 483465)"
      ]
     },
     "execution_count": 52,
     "metadata": {},
     "output_type": "execute_result"
    }
   ],
   "source": [
    "len(aap),len(app)"
   ]
  },
  {
   "cell_type": "code",
   "execution_count": 50,
   "metadata": {
    "collapsed": true
   },
   "outputs": [],
   "source": [
    "file_path = r'C:\\Users\\haiyuanzhao\\Desktop\\result\\processed\\{}.csv'.format('aap')\n",
    "with open(file_path,'w',newline=\"\") as f:\n",
    "    writer=csv.writer(f)\n",
    "    for i in aap:\n",
    "        temp=[]\n",
    "        temp.append(i[0])\n",
    "        temp.append(i[1])\n",
    "        temp.append(i[2])\n",
    "        writer.writerow(temp)"
   ]
  },
  {
   "cell_type": "code",
   "execution_count": 51,
   "metadata": {
    "collapsed": true
   },
   "outputs": [],
   "source": [
    "file_path = r'C:\\Users\\haiyuanzhao\\Desktop\\result\\processed\\{}.csv'.format('app')\n",
    "with open(file_path,'w',newline=\"\") as f:\n",
    "    writer=csv.writer(f)\n",
    "    for i in app:\n",
    "        temp=[]\n",
    "        temp.append(i[0])\n",
    "        temp.append(i[1])\n",
    "        temp.append(i[2])\n",
    "        writer.writerow(temp)"
   ]
  },
  {
   "cell_type": "code",
   "execution_count": 38,
   "metadata": {},
   "outputs": [
    {
     "name": "stderr",
     "output_type": "stream",
     "text": [
      "100%|███████████████████████████████████████████████████████████████████████████| 1000/1000 [00:00<00:00, 13193.16it/s]\n"
     ]
    },
    {
     "data": {
      "text/plain": [
       "[['10.1145/contrib-81100042425',\n",
       "  '10.1145/contrib-99658634476',\n",
       "  '10.1145/2939672.2939827'],\n",
       " ['10.1145/contrib-81496682701',\n",
       "  '10.1145/contrib-81418597820',\n",
       "  '10.1145/2339530.2339629'],\n",
       " ['10.1145/contrib-81496682701',\n",
       "  '10.1145/contrib-81418597820',\n",
       "  '10.1145/2939672.2939860'],\n",
       " ['10.1145/contrib-99659452065',\n",
       "  '10.1145/contrib-81314480915',\n",
       "  '10.1145/2484028.2484151'],\n",
       " ['10.1145/contrib-99658618612',\n",
       "  '10.1145/contrib-81100123897',\n",
       "  '10.1145/2661829.2661953'],\n",
       " ['10.1145/contrib-81436594398',\n",
       "  '10.1145/contrib-81100377324',\n",
       "  '10.1145/1871437.1871530'],\n",
       " ['10.1145/contrib-81372593941',\n",
       "  '10.1145/contrib-81372593941',\n",
       "  '10.1145/1835449.1835493'],\n",
       " ['10.1145/contrib-99658743067',\n",
       "  '10.1145/contrib-84460527457',\n",
       "  '10.1145/3219819.3219909'],\n",
       " ['10.1145/contrib-81413598044',\n",
       "  '10.1145/contrib-81413598044',\n",
       "  '10.1145/2348283.2348312'],\n",
       " ['10.1145/contrib-99659452662',\n",
       "  '10.1145/contrib-99659154274',\n",
       "  '10.1145/3097983.3098036'],\n",
       " ['10.1145/contrib-81490653423',\n",
       "  '10.1145/contrib-81451595141',\n",
       "  '10.1145/2339530.2339730'],\n",
       " ['10.1145/contrib-99659114057',\n",
       "  '10.1145/contrib-99659114057',\n",
       "  '10.1145/3219819.3219986'],\n",
       " ['10.1145/contrib-81100333035',\n",
       "  '10.1145/contrib-81100333035',\n",
       "  '10.1145/2063576.2063981'],\n",
       " ['10.1145/contrib-81447598996',\n",
       "  '10.1145/contrib-81100243402',\n",
       "  '10.1145/1835804.1835910'],\n",
       " ['10.1145/contrib-81384618663',\n",
       "  '10.1145/contrib-81100193887',\n",
       "  '10.1145/2020408.2020579'],\n",
       " ['10.1145/contrib-81384618663',\n",
       "  '10.1145/contrib-81100193887',\n",
       "  '10.1145/2063576.2063711'],\n",
       " ['10.1145/contrib-81384618663',\n",
       "  '10.1145/contrib-81100193887',\n",
       "  '10.1145/2806416.2806511'],\n",
       " ['10.1145/contrib-81384618663',\n",
       "  '10.1145/contrib-81100193887',\n",
       "  '10.1145/2872427.2883037'],\n",
       " ['10.1145/contrib-81317488756',\n",
       "  '10.1145/contrib-81466642241',\n",
       "  '10.1145/2872427.2883081'],\n",
       " ['10.1145/contrib-99659014089',\n",
       "  '10.1145/contrib-81555923456',\n",
       "  '10.1145/3331184.3331230'],\n",
       " ['10.1145/contrib-89758731057',\n",
       "  '10.1145/contrib-99659190195',\n",
       "  '10.1145/3097983.3098063'],\n",
       " ['10.1145/contrib-89758731057',\n",
       "  '10.1145/contrib-99659190195',\n",
       "  '10.1145/2872427.2883049'],\n",
       " ['10.1145/contrib-86158977757',\n",
       "  '10.1145/contrib-86158977757',\n",
       "  '10.1145/2766462.2767707'],\n",
       " ['10.1145/contrib-81350601988',\n",
       "  '10.1145/contrib-99659477319',\n",
       "  '10.1145/3357384.3357823'],\n",
       " ['10.1145/contrib-81508684644',\n",
       "  '10.1145/contrib-81100446994',\n",
       "  '10.1145/2661829.2661903'],\n",
       " ['10.1145/contrib-81508684644',\n",
       "  '10.1145/contrib-81100446994',\n",
       "  '10.1145/1835804.1835896'],\n",
       " ['10.1145/contrib-81508684644',\n",
       "  '10.1145/contrib-81100446994',\n",
       "  '10.1145/1871437.1871719'],\n",
       " ['10.1145/contrib-99658983383',\n",
       "  '10.1145/contrib-81350594201',\n",
       "  '10.1145/2020408.2020581'],\n",
       " ['10.1145/contrib-99658742973',\n",
       "  '10.1145/contrib-81487649465',\n",
       "  '10.1145/3132847.3133113'],\n",
       " ['10.1145/contrib-99659287730',\n",
       "  '10.1145/contrib-99659286703',\n",
       "  '10.1145/2487575.2487647'],\n",
       " ['10.1145/contrib-81544192756',\n",
       "  '10.1145/contrib-81544192756',\n",
       "  '10.1145/2063576.2063599'],\n",
       " ['10.1145/contrib-81442618250',\n",
       "  '10.1145/contrib-81442618250',\n",
       "  '10.1145/1963405.1963413'],\n",
       " ['10.1145/contrib-99659193930',\n",
       "  '10.1145/contrib-81350583018',\n",
       "  '10.1145/1871437.1871734'],\n",
       " ['10.1145/contrib-81436596024',\n",
       "  '10.1145/contrib-81436596024',\n",
       "  '10.1145/2063576.2064000'],\n",
       " ['10.1145/contrib-81322505341',\n",
       "  '10.1145/contrib-81323488612',\n",
       "  '10.1145/3219819.3219890'],\n",
       " ['10.1145/contrib-81556005056',\n",
       "  '10.1145/contrib-82458722457',\n",
       "  '10.1145/2348283.2348297'],\n",
       " ['10.1145/contrib-81100099117',\n",
       "  '10.1145/contrib-81442617921',\n",
       "  '10.1145/2806416.2806490'],\n",
       " ['10.1145/contrib-81423592672',\n",
       "  '10.1145/contrib-81100537648',\n",
       "  '10.1145/3269206.3271782'],\n",
       " ['10.1145/contrib-81423592672',\n",
       "  '10.1145/contrib-81100537648',\n",
       "  '10.1145/2187836.2187863'],\n",
       " ['10.1145/contrib-81423592672',\n",
       "  '10.1145/contrib-81100537648',\n",
       "  '10.1145/2009916.2010028'],\n",
       " ['10.1145/contrib-99659316962',\n",
       "  '10.1145/contrib-81100229109',\n",
       "  '10.1145/3219819.3219828'],\n",
       " ['10.1145/contrib-99659287225',\n",
       "  '10.1145/contrib-81472650328',\n",
       "  '10.1145/2396761.2396771'],\n",
       " ['10.1145/contrib-82459030757',\n",
       "  '10.1145/contrib-81100564379',\n",
       "  '10.1145/2505515.2505717'],\n",
       " ['10.1145/contrib-82459030757',\n",
       "  '10.1145/contrib-81100564379',\n",
       "  '10.1145/2063576.2063659'],\n",
       " ['10.1145/contrib-81472646064',\n",
       "  '10.1145/contrib-81100113287',\n",
       "  '10.1145/2600428.2609626'],\n",
       " ['10.1145/contrib-81472646064',\n",
       "  '10.1145/contrib-81100113287',\n",
       "  '10.1145/3018661.3022755'],\n",
       " ['10.1145/contrib-99659193717',\n",
       "  '10.1145/contrib-81100042425',\n",
       "  '10.1145/2939672.2939870'],\n",
       " ['10.1145/contrib-81474692241',\n",
       "  '10.1145/contrib-99659286703',\n",
       "  '10.1145/2487575.2487647'],\n",
       " ['10.1145/contrib-81100480838',\n",
       "  '10.1145/contrib-81367595814',\n",
       "  '10.1145/2396761.2396820'],\n",
       " ['10.1145/contrib-81490680916',\n",
       "  '10.1145/contrib-81100002847',\n",
       "  '10.1145/1835804.1835939'],\n",
       " ['10.1145/contrib-81548005096',\n",
       "  '10.1145/contrib-81351602311',\n",
       "  '10.1145/3178876.3186102'],\n",
       " ['10.1145/contrib-81470643959',\n",
       "  '10.1145/contrib-81100098715',\n",
       "  '10.1145/2623330.2623651'],\n",
       " ['10.1145/contrib-87959412857',\n",
       "  '10.1145/contrib-81438596204',\n",
       "  '10.1145/2348283.2348426'],\n",
       " ['10.1145/contrib-81100494852',\n",
       "  '10.1145/contrib-81100243402',\n",
       "  '10.1145/1835804.1835910'],\n",
       " ['10.1145/contrib-99659193214',\n",
       "  '10.1145/contrib-99658718511',\n",
       "  '10.1145/1772690.1772758'],\n",
       " ['10.1145/contrib-99659193214',\n",
       "  '10.1145/contrib-99658718511',\n",
       "  '10.1145/3077136.3080820'],\n",
       " ['10.1145/contrib-81548528956',\n",
       "  '10.1145/contrib-81351602311',\n",
       "  '10.1145/3178876.3186102'],\n",
       " ['10.1145/contrib-99658953116',\n",
       "  '10.1145/contrib-99659281142',\n",
       "  '10.1145/3209978.3210017'],\n",
       " ['10.1145/contrib-81453650813',\n",
       "  '10.1145/contrib-81100377324',\n",
       "  '10.1145/1871437.1871530'],\n",
       " ['10.1145/contrib-81458648028',\n",
       "  '10.1145/contrib-99658981454',\n",
       "  '10.1145/2623330.2623638'],\n",
       " ['10.1145/contrib-81458648028',\n",
       "  '10.1145/contrib-99658981454',\n",
       "  '10.1145/2911451.2914723'],\n",
       " ['10.1145/contrib-99658683153',\n",
       "  '10.1145/contrib-99658678226',\n",
       "  '10.1145/2806416.2806543'],\n",
       " ['10.1145/contrib-99659061475',\n",
       "  '10.1145/contrib-99659287265',\n",
       "  '10.1145/2911451.2914683'],\n",
       " ['10.1145/contrib-81317503259',\n",
       "  '10.1145/contrib-99659478387',\n",
       "  '10.1145/3178876.3185994'],\n",
       " ['10.1145/contrib-81337494052',\n",
       "  '10.1145/contrib-81557050356',\n",
       "  '10.1145/2566486.2567997'],\n",
       " ['10.1145/contrib-81337494052',\n",
       "  '10.1145/contrib-81557050356',\n",
       "  '10.1145/3289600.3290963'],\n",
       " ['10.1145/contrib-81337494052',\n",
       "  '10.1145/contrib-81557050356',\n",
       "  '10.1145/3289600.3291026'],\n",
       " ['10.1145/contrib-81547941056',\n",
       "  '10.1145/contrib-99659286624',\n",
       "  '10.1145/2911451.2914694'],\n",
       " ['10.1145/contrib-99659247123',\n",
       "  '10.1145/contrib-99658747738',\n",
       "  '10.1145/3219819.3220027'],\n",
       " ['10.1145/contrib-99658745005',\n",
       "  '10.1145/contrib-81556177556',\n",
       "  '10.1145/2487575.2487619'],\n",
       " ['10.1145/contrib-99658752208',\n",
       "  '10.1145/contrib-81350601426',\n",
       "  '10.1145/2783258.2783299'],\n",
       " ['10.1145/contrib-81100042425',\n",
       "  '10.1145/contrib-81100154373',\n",
       "  '10.1145/1772690.1772795'],\n",
       " ['10.1145/contrib-81100042425',\n",
       "  '10.1145/contrib-81100154373',\n",
       "  '10.1145/2983323.2983769'],\n",
       " ['10.1145/contrib-81460648360',\n",
       "  '10.1145/contrib-81100347280',\n",
       "  '10.1145/2600428.2609535'],\n",
       " ['10.1145/contrib-81460648360',\n",
       "  '10.1145/contrib-81100347280',\n",
       "  '10.1145/3178876.3186145'],\n",
       " ['10.1145/contrib-81460648360',\n",
       "  '10.1145/contrib-81100347280',\n",
       "  '10.1145/2766462.2767695'],\n",
       " ['10.1145/contrib-81460648360',\n",
       "  '10.1145/contrib-81100347280',\n",
       "  '10.1145/2348283.2348300'],\n",
       " ['10.1145/contrib-99658704236',\n",
       "  '10.1145/contrib-81333489125',\n",
       "  '10.1145/1835804.1835847'],\n",
       " ['10.1145/contrib-99658704236',\n",
       "  '10.1145/contrib-81333489125',\n",
       "  '10.1145/2939672.2939811'],\n",
       " ['10.1145/contrib-81490693475',\n",
       "  '10.1145/contrib-99659082897',\n",
       "  '10.1145/2983323.2983362'],\n",
       " ['10.1145/contrib-99658632748',\n",
       "  '10.1145/contrib-81490685284',\n",
       "  '10.1145/2736277.2741130'],\n",
       " ['10.1145/contrib-99658632748',\n",
       "  '10.1145/contrib-81490685284',\n",
       "  '10.1145/3038912.3052658'],\n",
       " ['10.1145/contrib-81418595426',\n",
       "  '10.1145/contrib-81452610814',\n",
       "  '10.1145/2187836.2187950'],\n",
       " ['10.1145/contrib-99659217888',\n",
       "  '10.1145/contrib-99659217888',\n",
       "  '10.1145/3331184.3331370'],\n",
       " ['10.1145/contrib-99659114057',\n",
       "  '10.1145/contrib-81496666708',\n",
       "  '10.1145/3132847.3132953'],\n",
       " ['10.1145/contrib-99659114057',\n",
       "  '10.1145/contrib-81496666708',\n",
       "  '10.1145/2623330.2623756'],\n",
       " ['10.1145/contrib-81100259455',\n",
       "  '10.1145/contrib-81363592163',\n",
       "  '10.1145/3038912.3052650'],\n",
       " ['10.1145/contrib-99659180159',\n",
       "  '10.1145/contrib-81452618560',\n",
       "  '10.1145/3178876.3186058'],\n",
       " ['10.1145/contrib-81100004458',\n",
       "  '10.1145/contrib-81548046987',\n",
       "  '10.1145/2063576.2063658'],\n",
       " ['10.1145/contrib-81442599382',\n",
       "  '10.1145/contrib-81500663961',\n",
       "  '10.1145/2766462.2767804'],\n",
       " ['10.1145/contrib-81453640533',\n",
       "  '10.1145/contrib-99659190553',\n",
       "  '10.1145/3308558.3313705'],\n",
       " ['10.1145/contrib-99659286921',\n",
       "  '10.1145/contrib-99659281142',\n",
       "  '10.1145/3209978.3210017'],\n",
       " ['10.1145/contrib-99658982557',\n",
       "  '10.1145/contrib-99659156616',\n",
       "  '10.1145/2623330.2623624'],\n",
       " ['10.1145/contrib-81100343429',\n",
       "  '10.1145/contrib-81556177556',\n",
       "  '10.1145/2487575.2487619'],\n",
       " ['10.1145/contrib-82458762557',\n",
       "  '10.1145/contrib-83358683257',\n",
       "  '10.1145/2939672.2939799'],\n",
       " ['10.1145/contrib-99658735197',\n",
       "  '10.1145/contrib-99659193606',\n",
       "  '10.1145/2983323.2983845'],\n",
       " ['10.1145/contrib-81100425341',\n",
       "  '10.1145/contrib-81548006169',\n",
       "  '10.1145/2783258.2783370'],\n",
       " ['10.1145/contrib-99659129036',\n",
       "  '10.1145/contrib-99658747738',\n",
       "  '10.1145/3219819.3220027'],\n",
       " ['10.1145/contrib-99658750238',\n",
       "  '10.1145/contrib-81487649465',\n",
       "  '10.1145/3132847.3133113'],\n",
       " ['10.1145/contrib-81501649650',\n",
       "  '10.1145/contrib-81325488266',\n",
       "  '10.1145/1835449.1835495'],\n",
       " ['10.1145/contrib-81501649650',\n",
       "  '10.1145/contrib-81325488266',\n",
       "  '10.1145/2911451.2914720'],\n",
       " ['10.1145/contrib-81405595465',\n",
       "  '10.1145/contrib-81547970556',\n",
       "  '10.1145/1835804.1835847'],\n",
       " ['10.1145/contrib-81472650328',\n",
       "  '10.1145/contrib-89758909957',\n",
       "  '10.1145/2505515.2505720'],\n",
       " ['10.1145/contrib-99658656589',\n",
       "  '10.1145/contrib-81100547902',\n",
       "  '10.1145/2009916.2010094'],\n",
       " ['10.1145/contrib-99658656589',\n",
       "  '10.1145/contrib-81100547902',\n",
       "  '10.1145/2124295.2124319'],\n",
       " ['10.1145/contrib-99658656589',\n",
       "  '10.1145/contrib-81100547902',\n",
       "  '10.1145/2020408.2020477'],\n",
       " ['10.1145/contrib-99658656589',\n",
       "  '10.1145/contrib-81100547902',\n",
       "  '10.1145/1835449.1835522'],\n",
       " ['10.1145/contrib-81548005686',\n",
       "  '10.1145/contrib-82459152757',\n",
       "  '10.1145/3038912.3052606'],\n",
       " ['10.1145/contrib-81548042367',\n",
       "  '10.1145/contrib-81316491451',\n",
       "  '10.1145/1871437.1871497'],\n",
       " ['10.1145/contrib-81548042367',\n",
       "  '10.1145/contrib-81316491451',\n",
       "  '10.1145/2063576.2063668'],\n",
       " ['10.1145/contrib-99658982636',\n",
       "  '10.1145/contrib-99658975826',\n",
       "  '10.1145/2806416.2806523'],\n",
       " ['10.1145/contrib-82658841557',\n",
       "  '10.1145/contrib-83358683257',\n",
       "  '10.1145/2939672.2939799'],\n",
       " ['10.1145/contrib-81310490642',\n",
       "  '10.1145/contrib-81548006169',\n",
       "  '10.1145/2783258.2783370'],\n",
       " ['10.1145/contrib-81363593975',\n",
       "  '10.1145/contrib-81100540023',\n",
       "  '10.1145/1871437.1871696'],\n",
       " ['10.1145/contrib-81363593975',\n",
       "  '10.1145/contrib-81100540023',\n",
       "  '10.1145/2396761.2398691'],\n",
       " ['10.1145/contrib-81363593975',\n",
       "  '10.1145/contrib-81100540023',\n",
       "  '10.1145/2009916.2009983'],\n",
       " ['10.1145/contrib-81363593975',\n",
       "  '10.1145/contrib-81100540023',\n",
       "  '10.1145/2911451.2911539'],\n",
       " ['10.1145/contrib-81100457770',\n",
       "  '10.1145/contrib-81100546351',\n",
       "  '10.1145/2661829.2661929'],\n",
       " ['10.1145/contrib-81487649465',\n",
       "  '10.1145/contrib-81487649465',\n",
       "  '10.1145/3132847.3133113'],\n",
       " ['10.1145/contrib-99659286602',\n",
       "  '10.1145/contrib-99659287455',\n",
       "  '10.1145/2623330.2623362'],\n",
       " ['10.1145/contrib-87959249957',\n",
       "  '10.1145/contrib-81100547902',\n",
       "  '10.1145/2009916.2010094'],\n",
       " ['10.1145/contrib-87959249957',\n",
       "  '10.1145/contrib-81100547902',\n",
       "  '10.1145/2124295.2124319'],\n",
       " ['10.1145/contrib-87959249957',\n",
       "  '10.1145/contrib-81100547902',\n",
       "  '10.1145/2020408.2020477'],\n",
       " ['10.1145/contrib-87959249957',\n",
       "  '10.1145/contrib-81100547902',\n",
       "  '10.1145/1835449.1835522'],\n",
       " ['10.1145/contrib-84459440157',\n",
       "  '10.1145/contrib-84459440157',\n",
       "  '10.1145/2505515.2505549'],\n",
       " ['10.1145/contrib-99658733547',\n",
       "  '10.1145/contrib-81100243402',\n",
       "  '10.1145/1835804.1835910'],\n",
       " ['10.1145/contrib-81413600442',\n",
       "  '10.1145/contrib-81438595662',\n",
       "  '10.1145/2020408.2020480'],\n",
       " ['10.1145/contrib-81100098715',\n",
       "  '10.1145/contrib-99658736312',\n",
       "  '10.1145/2339530.2339630'],\n",
       " ['10.1145/contrib-81466648782',\n",
       "  '10.1145/contrib-99659152273',\n",
       "  '10.1145/2020408.2020505'],\n",
       " ['10.1145/contrib-99658734516',\n",
       "  '10.1145/contrib-81335489572',\n",
       "  '10.1145/2872427.2874809'],\n",
       " ['10.1145/contrib-81549450856',\n",
       "  '10.1145/contrib-81490675847',\n",
       "  '10.1145/2339530.2339552'],\n",
       " ['10.1145/contrib-81100390699',\n",
       "  '10.1145/contrib-99658733764',\n",
       "  '10.1145/1835449.1835458'],\n",
       " ['10.1145/contrib-81488659641',\n",
       "  '10.1145/contrib-81442617702',\n",
       "  '10.1145/2911451.2914688'],\n",
       " ['10.1145/contrib-81100010116',\n",
       "  '10.1145/contrib-81100336335',\n",
       "  '10.1145/2009916.2010172'],\n",
       " ['10.1145/contrib-81100010116',\n",
       "  '10.1145/contrib-81100336335',\n",
       "  '10.1145/1963405.1963425'],\n",
       " ['10.1145/contrib-99659193037',\n",
       "  '10.1145/contrib-81100468764',\n",
       "  '10.1145/2339530.2339704']]"
      ]
     },
     "execution_count": 38,
     "metadata": {},
     "output_type": "execute_result"
    }
   ],
   "source": [
    "list_join(lst_a2a[:1000],lst_a2p[:1000])"
   ]
  },
  {
   "cell_type": "code",
   "execution_count": null,
   "metadata": {
    "collapsed": true
   },
   "outputs": [],
   "source": []
  }
 ],
 "metadata": {
  "kernelspec": {
   "display_name": "Python 3",
   "language": "python",
   "name": "python3"
  },
  "language_info": {
   "codemirror_mode": {
    "name": "ipython",
    "version": 3
   },
   "file_extension": ".py",
   "mimetype": "text/x-python",
   "name": "python",
   "nbconvert_exporter": "python",
   "pygments_lexer": "ipython3",
   "version": "3.6.3"
  }
 },
 "nbformat": 4,
 "nbformat_minor": 2
}
